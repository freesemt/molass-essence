{
 "cells": [
  {
   "cell_type": "markdown",
   "id": "a3c31cde",
   "metadata": {},
   "source": [
    "# Plate Theory\n",
    "\n",
    "## Basic Plate Theory\n",
    "\n",
    "$$ N = \\frac{t_R^2}{\\sigma^2} $$"
   ]
  },
  {
   "cell_type": "markdown",
   "id": "53088333",
   "metadata": {},
   "source": [
    "```{figure} ../../_static/images/theoretical_plates.png\n",
    ":name: theoretical_plates\n",
    "\n",
    "Theoretical Plates\n",
    "```"
   ]
  },
  {
   "cell_type": "markdown",
   "id": "19ff4f63",
   "metadata": {},
   "source": [
    "<video width=\"100%\" controls autoplay>\n",
    "<source src=\"../../_static/animations/plate_theory.mp4\" type=\"video/mp4\">\n",
    "</video>"
   ]
  },
  {
   "cell_type": "markdown",
   "id": "e764756b",
   "metadata": {},
   "source": [
    "<video width=\"100%\" controls autoplay>\n",
    "<source src=\"../../_static/animations/plate_theory-2.mp4\" type=\"video/mp4\">\n",
    "</video>"
   ]
  },
  {
   "cell_type": "markdown",
   "id": "de5eb319",
   "metadata": {},
   "source": [
    "## Modified Formula for Asymmetric Models\n",
    "\n",
    "$$  N \\approx \\frac{t_R^2}{(\\sigma^2 + \\sigma|\\tau| +\\tau^2)\\epsilon_2} \\approx \\frac{t_R^2}{\\sigma^2+\\tau^2}   $$"
   ]
  }
 ],
 "metadata": {
  "kernelspec": {
   "display_name": "Python 3",
   "language": "python",
   "name": "python3"
  },
  "language_info": {
   "codemirror_mode": {
    "name": "ipython",
    "version": 3
   },
   "file_extension": ".py",
   "mimetype": "text/x-python",
   "name": "python",
   "nbconvert_exporter": "python",
   "pygments_lexer": "ipython3",
   "version": "3.12.10"
  }
 },
 "nbformat": 4,
 "nbformat_minor": 5
}
