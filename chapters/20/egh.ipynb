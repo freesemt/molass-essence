{
 "cells": [
  {
   "cell_type": "markdown",
   "id": "587f0cca",
   "metadata": {},
   "source": [
    "# Exponential-Gaussian Hybrid"
   ]
  },
  {
   "cell_type": "code",
   "execution_count": null,
   "id": "1fddcb8e",
   "metadata": {},
   "outputs": [],
   "source": [
    "import numpy as np\n",
    "import matplotlib.pyplot as plt\n",
    "def plot_egh(x, A=1.0, mu=0.0, sigma=1.0, tau=1.0):\n",
    "    from molass_legacy.Peaks.ElutionModels import egh\n",
    "    y = egh(x, A, mu, sigma, tau)\n",
    "    plt.plot(x, y)\n",
    "    plt.title('Exponential-Gaussian Hybrid Function')\n",
    "    plt.xlabel('x')\n",
    "    plt.ylabel('f(x)')\n",
    "    plt.grid()\n",
    "    plt.show()"
   ]
  },
  {
   "cell_type": "code",
   "execution_count": null,
   "id": "5f11a164",
   "metadata": {},
   "outputs": [],
   "source": [
    "x = np.arange(300)\n",
    "plot_egh(x, A=1.0, mu=150.0, sigma=30.0, tau=0)"
   ]
  },
  {
   "cell_type": "code",
   "execution_count": null,
   "id": "df9a859c",
   "metadata": {},
   "outputs": [],
   "source": [
    "def plot_egh_curves(x, params):\n",
    "    from molass_legacy.Peaks.ElutionModels import egh\n",
    "    for param in params:\n",
    "        y = egh(x, param['A'], param['mu'], param['sigma'], param['tau'])\n",
    "        plt.plot(x, y, label=f\"A={param['A']}, mu={param['mu']}, sigma={param['sigma']}, tau={param['tau']}\")\n",
    "    plt.title('Exponential-Gaussian Hybrid Functions')\n",
    "    plt.xlabel('x')\n",
    "    plt.ylabel('f(x)')\n",
    "    plt.grid()\n",
    "    plt.legend()\n",
    "    plt.show()"
   ]
  },
  {
   "cell_type": "code",
   "execution_count": null,
   "id": "9c290489",
   "metadata": {},
   "outputs": [],
   "source": [
    "plot_egh_curves(x, [\n",
    "    {'A': 1.0, 'mu': 150.0, 'sigma': 30.0, 'tau': 0},\n",
    "    {'A': 1.0, 'mu': 150.0, 'sigma': 30.0, 'tau': 20},\n",
    "])"
   ]
  }
 ],
 "metadata": {
  "kernelspec": {
   "display_name": "Python 3",
   "language": "python",
   "name": "python3"
  },
  "language_info": {
   "codemirror_mode": {
    "name": "ipython",
    "version": 3
   },
   "file_extension": ".py",
   "mimetype": "text/x-python",
   "name": "python",
   "nbconvert_exporter": "python",
   "pygments_lexer": "ipython3",
   "version": "3.12.10"
  }
 },
 "nbformat": 4,
 "nbformat_minor": 5
}
