{
 "cells": [
  {
   "cell_type": "markdown",
   "id": "63cc1f81",
   "metadata": {},
   "source": [
    "# Gaussian Curve\n",
    "\n"
   ]
  },
  {
   "cell_type": "code",
   "execution_count": null,
   "id": "bd712e38",
   "metadata": {},
   "outputs": [],
   "source": [
    "import numpy as np\n",
    "def gaussian(x, A=1.0, mu=0.0, sigma=1.0):\n",
    "    return A * np.exp(-((x - mu) ** 2) / (2 * sigma ** 2))\n"
   ]
  },
  {
   "cell_type": "code",
   "execution_count": null,
   "id": "d827c2fa",
   "metadata": {},
   "outputs": [],
   "source": [
    "import matplotlib.pyplot as plt\n",
    "def plot_gaussian(x, A=1.0, mu=0.0, sigma=1.0):    \n",
    "    y = gaussian(x, A, mu, sigma)\n",
    "    \n",
    "    plt.figure(figsize=(8, 4))\n",
    "    plt.plot(x, y, label=f'Gaussian: A={A}, μ={mu}, σ={sigma}')\n",
    "    plt.title('Gaussian Function')\n",
    "    plt.xlabel('x')\n",
    "    plt.ylabel('f(x)')\n",
    "    plt.grid()\n",
    "    plt.legend()\n",
    "    plt.show()"
   ]
  },
  {
   "cell_type": "code",
   "execution_count": null,
   "id": "cc518cfb",
   "metadata": {},
   "outputs": [],
   "source": [
    "x = np.linspace(-5, 5, 100)\n",
    "plot_gaussian(x)"
   ]
  },
  {
   "cell_type": "code",
   "execution_count": null,
   "id": "0ce56b47",
   "metadata": {},
   "outputs": [],
   "source": [
    "x = np.arange(300)\n",
    "plot_gaussian(x, A=1.0, mu=150.0, sigma=30.0)"
   ]
  }
 ],
 "metadata": {
  "kernelspec": {
   "display_name": "Python 3",
   "language": "python",
   "name": "python3"
  },
  "language_info": {
   "codemirror_mode": {
    "name": "ipython",
    "version": 3
   },
   "file_extension": ".py",
   "mimetype": "text/x-python",
   "name": "python",
   "nbconvert_exporter": "python",
   "pygments_lexer": "ipython3",
   "version": "3.12.10"
  }
 },
 "nbformat": 4,
 "nbformat_minor": 5
}
