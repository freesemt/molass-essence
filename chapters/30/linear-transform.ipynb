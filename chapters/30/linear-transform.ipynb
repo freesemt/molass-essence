{
 "cells": [
  {
   "cell_type": "markdown",
   "id": "9bc58fc9",
   "metadata": {},
   "source": [
    "# Linear Transformation\n",
    "\n",
    "Matrix multiplication maps any vector to another vector. Therefore it maps a shape to another shape in the vector space. In this sense a matrix correspond to a transformation, which is called a linear transformation. In this chapter, we will explore some examples in the hope that it will be helpful for the understanding of linear algebra basics."
   ]
  },
  {
   "cell_type": "markdown",
   "id": "febf24b5",
   "metadata": {},
   "source": [
    "## Basic Concept\n",
    "\n",
    "Linear transformation perspective is an easy way to get intuitive ideas about some of the concepts in linear algebra. The following animation shows an example in 2D space. It can be defined to be a transformation which transforms a square to a parallelogram.\n",
    "\n",
    "<video width=\"100%\" controls autoplay>\n",
    "<source src=\"../../_static/animations/linear-transfomation.mp4\" type=\"video/mp4\">\n",
    "</video>"
   ]
  },
  {
   "cell_type": "markdown",
   "id": "0e2b7727",
   "metadata": {},
   "source": [
    "## Moore-Ponrose Inverse\n",
    "\n",
    "In this perspective, Moore-Penrose inverse is an inverse transformation shown below. This animation first shows a 2D to 3D transformation starting from a 2D square in the left pane. And on the completion in the left, then its inverse transformation from 3D to 2D is shown in the right pane starting from a 3D cube.\n",
    "\n",
    "<video width=\"100%\" controls autoplay>\n",
    "<source src=\"../../_static/animations/moore-penrose-inverse.mp4\" type=\"video/mp4\">\n",
    "</video>"
   ]
  },
  {
   "cell_type": "markdown",
   "id": "f618cd90",
   "metadata": {},
   "source": [
    "## Singular Value Decomposition\n",
    "\n",
    "Singular value decomposition $ M = U \\cdot \\Sigma \\cdot V^* $ below is another one which is made easy to understand with linear transformation. It should be clear in this animation how the decomposed matrices correspond to a rotation, a pair of scaling in the direction of axes (or a rectangular transformation) and another rotation.\n",
    "\n",
    "<video width=\"100%\" controls autoplay>\n",
    "<source src=\"../../_static/animations/SVD-animation.mp4\" type=\"video/mp4\">\n",
    "</video>"
   ]
  }
 ],
 "metadata": {
  "kernelspec": {
   "display_name": "Python 3",
   "language": "python",
   "name": "python3"
  },
  "language_info": {
   "codemirror_mode": {
    "name": "ipython",
    "version": 3
   },
   "file_extension": ".py",
   "mimetype": "text/x-python",
   "name": "python",
   "nbconvert_exporter": "python",
   "pygments_lexer": "ipython3",
   "version": "3.12.9"
  }
 },
 "nbformat": 4,
 "nbformat_minor": 5
}
