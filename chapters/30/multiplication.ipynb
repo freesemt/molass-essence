{
 "cells": [
  {
   "cell_type": "markdown",
   "id": "e66eb023-d244-45fe-a583-9a08c405a996",
   "metadata": {},
   "source": [
    "# Matrices from Curves"
   ]
  },
  {
   "cell_type": "code",
   "execution_count": null,
   "id": "7d538d29-9ddb-4ff4-8996-a1ab5e001c76",
   "metadata": {},
   "outputs": [],
   "source": [
    "import numpy as np\n",
    "import matplotlib.pyplot as plt\n",
    "import seaborn\n",
    "seaborn.set_theme()\n",
    "%matplotlib widget"
   ]
  },
  {
   "cell_type": "markdown",
   "id": "4312fb6d-fedd-4327-91d2-fc503ec8524a",
   "metadata": {},
   "source": [
    "## Elution Curve Model"
   ]
  },
  {
   "cell_type": "code",
   "execution_count": null,
   "id": "73df5d77-23cf-4515-98b9-7da12bbbc42e",
   "metadata": {},
   "outputs": [],
   "source": [
    "def gaussian(x, h, m, s):\n",
    "    return h*np.exp(-((x - m)/s)**2)"
   ]
  },
  {
   "cell_type": "markdown",
   "id": "36efa510-bf1a-4c37-a964-5bfb8d335ac9",
   "metadata": {},
   "source": [
    "## Scattering Curve Model\n",
    "* [2010, B. Hammouda; A new Guinier-Porod model](https://journals.iucr.org/paper?ce5078)\n",
    "* caveat: this model is only for tutorials, meaning not realistic as a protein model due to the lack of medium angle regions "
   ]
  },
  {
   "cell_type": "code",
   "execution_count": null,
   "id": "0d6e3603-3d4b-4d61-9c39-614d5684a593",
   "metadata": {},
   "outputs": [],
   "source": [
    "def guinier_porod(q, G, Rg, d, return_also_q1=False):\n",
    "    q1 = 1/Rg*np.power(3*d/2, 1/2)\n",
    "    D = G * np.exp(-q1**2 * Rg**2/3) * q1**d\n",
    "    lower = q <= q1\n",
    "    qlow = q[lower]\n",
    "    qhigh = q[np.logical_not(lower)]\n",
    "    low_angle_values = G * np.exp(-qlow**2*Rg**2/3)\n",
    "    high_angle_values = D/qhigh**d\n",
    "    w = np.concatenate([low_angle_values, high_angle_values])\n",
    "    if return_also_q1:\n",
    "        return w, q1\n",
    "    else:\n",
    "        return w"
   ]
  },
  {
   "cell_type": "markdown",
   "id": "f4f51789-8ee1-4603-b3ec-b4c3e418af41",
   "metadata": {},
   "source": [
    "## Matrix Operation and 3D View\n",
    "### Single Component"
   ]
  },
  {
   "cell_type": "code",
   "execution_count": null,
   "id": "6fe811a3-eb48-44f1-8d28-c03af4a90b71",
   "metadata": {},
   "outputs": [],
   "source": [
    "x = np.arange(300)\n",
    "q = np.linspace(0.005, 0.5, 400)\n",
    "def plot_single_component_data(scatter_params, elution_params):\n",
    "    G, Rg, d = scatter_params\n",
    "    h, m, s = elution_params\n",
    "    fig = plt.figure(figsize=(15,4))\n",
    "    ax1 = fig.add_subplot(131)\n",
    "    ax2 = fig.add_subplot(132)\n",
    "    ax3 = fig.add_subplot(133, projection='3d')\n",
    "    \n",
    "    w, q1 = guinier_porod(q, G, Rg, d, return_also_q1=True)\n",
    "    # ax1.set_yscale('log')\n",
    "    ax1.set_title(\"Scattering Curve: P\")\n",
    "    ax1.plot(q, w)\n",
    "    ax1.axvline(q1, linestyle=':', color=\"green\", label='Guinier-Porod $Q_1$')\n",
    "    ax1.legend()\n",
    "\n",
    "    y = gaussian(x, h, m, s)\n",
    "    ax2.set_title(\"Elution Curve: C\")\n",
    "    ax2.plot(x, y)\n",
    "    \n",
    "    zz =  w.reshape((len(q),1)) @ y.reshape((1,len(x)))\n",
    "    xx, qq = np.meshgrid(x, q)\n",
    "    ax3.set_title(\"3D Data View: M=PC\")\n",
    "    ax3.plot_surface(qq, xx, zz)\n",
    "    fig.tight_layout()"
   ]
  },
  {
   "cell_type": "code",
   "execution_count": null,
   "id": "d59598a3-736a-477f-b8e0-6564a9fd3709",
   "metadata": {},
   "outputs": [],
   "source": [
    "plot_single_component_data((1, 35, 3), (1, 150, 30))"
   ]
  },
  {
   "cell_type": "markdown",
   "id": "c1e96e9e-3fa6-4d68-8a6a-4ff7c71855ed",
   "metadata": {},
   "source": [
    "### Multiple Components"
   ]
  },
  {
   "cell_type": "code",
   "execution_count": null,
   "id": "0e0f546c-ecc3-4254-be52-9c4255f837a7",
   "metadata": {},
   "outputs": [],
   "source": [
    "def plot_multiple_component_data(scattering_params, elution_params, use_matrices=False, view=None):\n",
    "    fig = plt.figure(figsize=(15,5))\n",
    "    ax1 = fig.add_subplot(131)\n",
    "    ax2 = fig.add_subplot(132)\n",
    "    ax3 = fig.add_subplot(133, projection='3d')\n",
    "    \n",
    "    fig.suptitle(r\"Illustration of Decomposition $M = P \\cdot C$ simulated with Guinier-Prod and EGH Models in Molass Library\", fontsize=16)\n",
    "\n",
    "    # ax1.set_yscale('log')\n",
    "    ax1.set_title(\"Scattering Curves in P\", fontsize=14)\n",
    "    ax1.set_xlabel(\"Q\")\n",
    "    ax1.set_ylabel(\"Intensity\")\n",
    "    w_list = []\n",
    "    rgs = []\n",
    "    for i, (G, Rg, d) in enumerate(scattering_params):\n",
    "        w, q1 = guinier_porod(q, G, Rg, d, return_also_q1=True)\n",
    "        w_list.append(w)\n",
    "        color = \"C%d\" % i\n",
    "        ax1.plot(q, w, color=color, label='component-%d: $R_g=%.3g$' % (i+1, Rg))\n",
    "        rgs.append(Rg)\n",
    "        # ax1.axvline(q1, linestyle=':', color=color, label='Guinier-Porod $Q_1$')\n",
    "    ax1.legend()\n",
    "\n",
    "    y_list = []\n",
    "    ax2.set_title(\"Elution Curves in C\", fontsize=14)\n",
    "    ax2.set_xlabel(\"Frames\")\n",
    "    ax2.set_ylabel(\"Concentration\")\n",
    "    for i, (h, m, s) in enumerate(elution_params):\n",
    "        y = gaussian(x, h, m, s)\n",
    "        y_list.append(y)\n",
    "        ax2.plot(x, y, label='component-%d: $R_g=%.3g$' % (i+1, rgs[i]))\n",
    "    ty = np.sum(y_list, axis=0)\n",
    "    ax2.plot(x, ty, ':', color='red', label='total')\n",
    "    ax2.legend()\n",
    "\n",
    "    ax3.set_title(r\"$M$ calculated by $P \\cdot C$\", fontsize=14)\n",
    "    ax3.set_xlabel(\"Q\")\n",
    "    ax3.set_ylabel(\"Frames\")\n",
    "    ax3.set_zlabel(\"Intensity\")\n",
    "    xx, qq = np.meshgrid(x, q)\n",
    "    if use_matrices:\n",
    "        P = np.array(w_list).T\n",
    "        C = np.array(y_list)\n",
    "        M = P @ C\n",
    "    else:\n",
    "        zz_list = []\n",
    "        for w, y in zip(w_list, y_list):\n",
    "            zz =  w.reshape((len(q),1)) @ y.reshape((1,len(x)))\n",
    "            zz_list.append(zz)\n",
    "        M = np.sum(zz_list, axis=0)\n",
    "    ax3.plot_surface(qq, xx, M, color='red', alpha=0.5)\n",
    "    # ax3.legend()\n",
    "    if view is not None:\n",
    "        ax3.view_init(azim=view[0], elev=view[1])    \n",
    "    fig.tight_layout()\n",
    "    fig.subplots_adjust(right=0.95)\n",
    "\n",
    "    if use_matrices:\n",
    "        return P, C, M"
   ]
  },
  {
   "cell_type": "code",
   "execution_count": null,
   "id": "6ea9a67b-97f6-44c3-b889-b8e13e977c5f",
   "metadata": {},
   "outputs": [],
   "source": [
    "rgs = (35, 32, 23)\n",
    "scattering_params = [(1, rgs[0], 3), (1, rgs[1], 3), (1, rgs[2], 4)]\n",
    "elution_params = [(1, 100, 12), (0.3, 125, 16), (0.5, 200, 16)]\n",
    "P, C, M = plot_multiple_component_data(scattering_params, elution_params, use_matrices=True, view=(-15, 15))"
   ]
  }
 ],
 "metadata": {
  "kernelspec": {
   "display_name": "Python 3",
   "language": "python",
   "name": "python3"
  },
  "language_info": {
   "codemirror_mode": {
    "name": "ipython",
    "version": 3
   },
   "file_extension": ".py",
   "mimetype": "text/x-python",
   "name": "python",
   "nbconvert_exporter": "python",
   "pygments_lexer": "ipython3",
   "version": "3.12.9"
  }
 },
 "nbformat": 4,
 "nbformat_minor": 5
}
