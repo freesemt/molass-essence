{
 "cells": [
  {
   "cell_type": "markdown",
   "id": "9bc58fc9",
   "metadata": {},
   "source": [
    "# Moore-Penrose Inverse\n",
    "\n",
    "In the previous chapter, we have confirmed the matrix formula $ M = P \\cdot C $ which can be stated in natural language that a SEC-SAXS dataset can be expressed as the product of a set of spectral curves and a set of elutional curves. If it was about multiplication, how about division? The answer can be `conceptually` expressed using the Moore-Penrose inverse as follows.\n",
    "\n",
    "$$ P = M \\cdot C^{+} \\qquad \\qquad (2a) $$\n",
    "$$ C = P^{+} \\cdot M \\qquad \\qquad (2b) $$\n",
    "\n",
    "More precisely stated, these equalities are not exact and should be interpreted as follows.\n",
    "\n",
    "$$ \n",
    "\\renewcommand{\\argmax}{\\mathop{\\rm argmax}\\limits}\n",
    "\\renewcommand{\\argmin}{\\mathop{\\rm argmin}\\limits} $$\n",
    "$$ P = \\underset{P}{\\operatorname{\\argmin}} \\| M - P \\cdot C \\| \\qquad \\qquad (3a) $$\n",
    "$$ C = \\underset{C}{\\operatorname{\\argmin}} \\| M - P \\cdot C \\| \\qquad \\qquad (3b) $$\n",
    "\n",
    "which means that if $M$ and $C$ (or $P$) are given, we can find $P$ (or $C$) which minimizes the norm.\n",
    "\n",
    "Confirm the meaning above with scalars, say $M = 12$.\n",
    "\n",
    "* If $ C = 4$, then $P = M \\cdot \\frac{1}{4} = 3 $. \n",
    "* If $ P = 2$, then $C = \\frac{1}{2} \\cdot M = 6 $.\n",
    "\n",
    "Note that, without any contraints, the factorization is arbitrary. For example,\n",
    "\n",
    "* $12 = 3\\cdot4 $\n",
    "* $12 = 2\\cdot6 $\n",
    "* $12 = 2\\sqrt{3} \\cdot 2\\sqrt{3} $\n",
    "* or whatever\n",
    "\n",
    "In other words, be aware that the Moore-Penrose inserse just gives the unique paired reciprocal when the other is given, but it says nothing which constraints the factorization.\n",
    "\n",
    "In this chapter, we will confirm that the Moore-Penrose inverses serve the role of reciprocal numbers.\n",
    " "
   ]
  },
  {
   "cell_type": "code",
   "execution_count": null,
   "id": "36005f21",
   "metadata": {},
   "outputs": [],
   "source": [
    "import numpy as np\n",
    "import matplotlib.pyplot as plt\n",
    "from molass.SAXS.Models.Simple import guinier_porod\n",
    "from molass.SEC.Models.Simple import gaussian"
   ]
  },
  {
   "cell_type": "markdown",
   "id": "d34ee957",
   "metadata": {},
   "source": [
    "## Single Component"
   ]
  },
  {
   "cell_type": "code",
   "execution_count": null,
   "id": "0a576bc5",
   "metadata": {},
   "outputs": [],
   "source": [
    "x = np.arange(300)\n",
    "q = np.linspace(0.005, 0.5, 400)\n",
    "def plot_single_component_data(scatter_params, elution_params, noise=None):\n",
    "    G, Rg, d = scatter_params\n",
    "    h, m, s = elution_params\n",
    "    fig = plt.figure(figsize=(15,4))\n",
    "    ax1 = fig.add_subplot(131)\n",
    "    ax2 = fig.add_subplot(132)\n",
    "    ax3 = fig.add_subplot(133, projection='3d')\n",
    "    \n",
    "    w, q1 = guinier_porod(q, G, Rg, d, return_also_q1=True)\n",
    "    # ax1.set_yscale('log')\n",
    "    ax1.set_title(\"Scattering Curve: P\")\n",
    "    ax1.plot(q, w)\n",
    "    ax1.axvline(q1, linestyle=':', color=\"green\", label='Guinier-Porod $Q_1$')\n",
    "    ax1.legend()\n",
    "\n",
    "    y = gaussian(x, h, m, s)\n",
    "    ax2.set_title(\"Elution Curve: C\")\n",
    "    ax2.plot(x, y)\n",
    "    \n",
    "    P = w.reshape((len(q),1))   # make it a matrix\n",
    "    C = y.reshape((1,len(x)))   # make it a matrix\n",
    "    M = P @ C                   # matrix multiplication\n",
    "    if noise is not None:\n",
    "        M += noise * np.random.randn(*M.shape)\n",
    "    xx, qq = np.meshgrid(x, q)\n",
    "    ax3.set_title(\"3D Data View: M=PC\")\n",
    "    ax3.plot_surface(qq, xx, M)\n",
    "\n",
    "    Cinv = np.linalg.pinv(C)\n",
    "    P_ = M @ Cinv\n",
    "    ax1.plot(q, P_, linestyle=':', color=\"red\", label='P from M')\n",
    "\n",
    "    fig.tight_layout()"
   ]
  },
  {
   "cell_type": "code",
   "execution_count": null,
   "id": "99ff2f92",
   "metadata": {},
   "outputs": [],
   "source": [
    "plot_single_component_data((1, 35, 3), (1, 150, 30))"
   ]
  },
  {
   "cell_type": "code",
   "execution_count": null,
   "id": "ab3c807c",
   "metadata": {},
   "outputs": [],
   "source": [
    "plot_single_component_data((1, 35, 3), (1, 150, 30), noise=0.1)"
   ]
  },
  {
   "cell_type": "markdown",
   "id": "1b3cd5d1",
   "metadata": {},
   "source": [
    "### Multiple Components"
   ]
  },
  {
   "cell_type": "code",
   "execution_count": null,
   "id": "ac41b5f7",
   "metadata": {},
   "outputs": [],
   "source": [
    "def plot_multiple_component_data(scattering_params, elution_params, use_matrices=False, view=None, noise=None):\n",
    "    fig = plt.figure(figsize=(15,5))\n",
    "    ax1 = fig.add_subplot(131)\n",
    "    ax2 = fig.add_subplot(132)\n",
    "    ax3 = fig.add_subplot(133, projection='3d')\n",
    "    \n",
    "    fig.suptitle(r\"Illustration of Decomposition $M = P \\cdot C$ simulated with Guinier-Prod and EGH Models in Molass Library\", fontsize=16)\n",
    "\n",
    "    # ax1.set_yscale('log')\n",
    "    ax1.set_title(\"Scattering Curves in P\", fontsize=14)\n",
    "    ax1.set_xlabel(\"Q\")\n",
    "    ax1.set_ylabel(\"Intensity\")\n",
    "    w_list = []\n",
    "    rgs = []\n",
    "    for i, (G, Rg, d) in enumerate(scattering_params):\n",
    "        w, q1 = guinier_porod(q, G, Rg, d, return_also_q1=True)\n",
    "        w_list.append(w)\n",
    "        color = \"C%d\" % i\n",
    "        ax1.plot(q, w, color=color, label='component-%d: $R_g=%.3g$' % (i+1, Rg))\n",
    "        rgs.append(Rg)\n",
    "        # ax1.axvline(q1, linestyle=':', color=color, label='Guinier-Porod $Q_1$')\n",
    "    ax1.legend()\n",
    "\n",
    "    y_list = []\n",
    "    ax2.set_title(\"Elution Curves in C\", fontsize=14)\n",
    "    ax2.set_xlabel(\"Frames\")\n",
    "    ax2.set_ylabel(\"Concentration\")\n",
    "    for i, (h, m, s) in enumerate(elution_params):\n",
    "        y = gaussian(x, h, m, s)\n",
    "        y_list.append(y)\n",
    "        ax2.plot(x, y, label='component-%d: $R_g=%.3g$' % (i+1, rgs[i]))\n",
    "    ty = np.sum(y_list, axis=0)\n",
    "    ax2.plot(x, ty, ':', color='red', label='total')\n",
    "    ax2.legend()\n",
    "\n",
    "    ax3.set_title(r\"$M$ calculated by $P \\cdot C$\", fontsize=14)\n",
    "    ax3.set_xlabel(\"Q\")\n",
    "    ax3.set_ylabel(\"Frames\")\n",
    "    ax3.set_zlabel(\"Intensity\")\n",
    "    xx, qq = np.meshgrid(x, q)\n",
    "    if use_matrices:\n",
    "        P = np.array(w_list).T\n",
    "        C = np.array(y_list)\n",
    "        M = P @ C\n",
    "    else:\n",
    "        zz_list = []\n",
    "        for w, y in zip(w_list, y_list):\n",
    "            zz =  w.reshape((len(q),1)) @ y.reshape((1,len(x)))\n",
    "            zz_list.append(zz)\n",
    "        M = np.sum(zz_list, axis=0)\n",
    "    if noise is not None:\n",
    "        M += noise * np.random.randn(*M.shape)\n",
    "    ax3.plot_surface(qq, xx, M, color='red', alpha=0.5)\n",
    "    # ax3.legend()\n",
    "    if view is not None:\n",
    "        ax3.view_init(azim=view[0], elev=view[1])\n",
    "    Cinv = np.linalg.pinv(C)\n",
    "    P_ = M @ Cinv\n",
    "    for py in P_.T:\n",
    "        ax1.plot(q, py, linestyle=':', color=\"red\")\n",
    "    fig.tight_layout()\n",
    "    fig.subplots_adjust(right=0.95)"
   ]
  },
  {
   "cell_type": "code",
   "execution_count": null,
   "id": "d19d8930",
   "metadata": {},
   "outputs": [],
   "source": [
    "rgs = (35, 32, 23)\n",
    "scattering_params = [(1, rgs[0], 3), (1, rgs[1], 3), (1, rgs[2], 4)]\n",
    "elution_params = [(1, 100, 12), (0.3, 125, 16), (0.5, 200, 16)]\n",
    "plot_multiple_component_data(scattering_params, elution_params, use_matrices=True, view=(-15, 15))"
   ]
  },
  {
   "cell_type": "code",
   "execution_count": null,
   "id": "10c831b6",
   "metadata": {},
   "outputs": [],
   "source": [
    "plot_multiple_component_data(scattering_params, elution_params, use_matrices=True, view=(-15, 15), noise=0.1)"
   ]
  }
 ],
 "metadata": {
  "kernelspec": {
   "display_name": "Python 3",
   "language": "python",
   "name": "python3"
  },
  "language_info": {
   "codemirror_mode": {
    "name": "ipython",
    "version": 3
   },
   "file_extension": ".py",
   "mimetype": "text/x-python",
   "name": "python",
   "nbconvert_exporter": "python",
   "pygments_lexer": "ipython3",
   "version": "3.12.10"
  }
 },
 "nbformat": 4,
 "nbformat_minor": 5
}
