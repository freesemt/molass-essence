{
 "cells": [
  {
   "cell_type": "markdown",
   "id": "9bc58fc9",
   "metadata": {},
   "source": [
    "# Noise Reduction with SVD\n",
    "\n",
    "## How to Denoise\n",
    "As commonly known {cite:p}`Schanze_2018`, we can denoise $M$ by ignoring the insignificant tail[^1] of the following expansion made from SVD - Singular Value Decomposition - based on the linear nature expected in the data.\n",
    "\n",
    "$$ M = \\sum_{i=1}^{n} \\sigma_i u_i v_i^* \\qquad \\qquad (4) $$\n",
    "\n",
    "where\n",
    "\n",
    "* $n \\leq \\min(rows, columns)$ : the rank of $M$,\n",
    "* $\\sigma_i$ : ith singular value,\n",
    "* $u_i$ : ith row vector of the unitary matrix usually denoted by $U$,\n",
    "* $v_i^*$ : traspose of ith row vector of the unitary matrix usually denoted by $V$.\n",
    "\n",
    "[^1]: terms where $n \\geq i \\geq r$ assuming the target rank is r, which is supposed to be the number of components in cases of simple assumption. Otherwize, e.g, if any significant interparticle effects are suspected, this number should be duly incremented. `Molass Library` can deal with this issue by adding extra quadratic rows to $C$ when the concentration dependence can be assumed linear.\n"
   ]
  },
  {
   "cell_type": "markdown",
   "id": "e787b6f1",
   "metadata": {},
   "source": [
    "## Denoise Example\n",
    "\n",
    "To confirm the denoise method above, let us observe the two cases we used before, one of which is without noise, the other with noise.For convenience,  we name these data sets as (matrices) $M_{clean}$ and $M_{noisy}$.\n",
    "\n",
    "Our observation strategy is as follows.\n",
    "* Consider a single component case\n",
    "* Assume a true elution curve $C$ is known.\n",
    "* Denoise $M_{noisy}$ into $M_{denoised}$\n",
    "* Compute spectral curves from $M_{noisy}$ and $M_{denoised}$\n",
    "* Compare the computed spectral curves $P_{noisy}$ and $P_{denoised}$"
   ]
  }
 ],
 "metadata": {
  "kernelspec": {
   "display_name": "Python 3",
   "language": "python",
   "name": "python3"
  },
  "language_info": {
   "codemirror_mode": {
    "name": "ipython",
    "version": 3
   },
   "file_extension": ".py",
   "mimetype": "text/x-python",
   "name": "python",
   "nbconvert_exporter": "python",
   "pygments_lexer": "ipython3",
   "version": "3.12.9"
  }
 },
 "nbformat": 4,
 "nbformat_minor": 5
}
