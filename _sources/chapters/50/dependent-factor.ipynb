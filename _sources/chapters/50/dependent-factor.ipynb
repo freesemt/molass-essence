{
 "cells": [
  {
   "cell_type": "markdown",
   "id": "a3c31cde",
   "metadata": {},
   "source": [
    "# Dependent Factor Issue"
   ]
  }
 ],
 "metadata": {
  "language_info": {
   "name": "python"
  }
 },
 "nbformat": 4,
 "nbformat_minor": 5
}
