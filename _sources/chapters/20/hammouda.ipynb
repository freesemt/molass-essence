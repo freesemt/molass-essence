{
 "cells": [
  {
   "cell_type": "markdown",
   "id": "e66eb023-d244-45fe-a583-9a08c405a996",
   "metadata": {},
   "source": [
    "# Guinier-Porod Model\n",
    "\n",
    "* [2010, B. Hammouda; A new Guinier-Porod model](https://journals.iucr.org/paper?ce5078)\n",
    "* caveat: this model is only for tutorials, meaning not realistic as a protein model due to the lack of medium angle regions "
   ]
  },
  {
   "cell_type": "code",
   "execution_count": null,
   "id": "0d6e3603-3d4b-4d61-9c39-614d5684a593",
   "metadata": {},
   "outputs": [],
   "source": [
    "import numpy as np\n",
    "import matplotlib.pyplot as plt\n",
    "\n",
    "def guinier_porod(q, G, Rg, d, return_also_q1=False):\n",
    "    q1 = 1/Rg*np.power(3*d/2, 1/2)\n",
    "    D = G * np.exp(-q1**2 * Rg**2/3) * q1**d\n",
    "    lower = q <= q1\n",
    "    qlow = q[lower]\n",
    "    qhigh = q[np.logical_not(lower)]\n",
    "    low_angle_values = G * np.exp(-qlow**2*Rg**2/3)\n",
    "    high_angle_values = D/qhigh**d\n",
    "    w = np.concatenate([low_angle_values, high_angle_values])\n",
    "    if return_also_q1:\n",
    "        return w, q1\n",
    "    else:\n",
    "        return w"
   ]
  }
 ],
 "metadata": {
  "kernelspec": {
   "display_name": "Python 3",
   "language": "python",
   "name": "python3"
  },
  "language_info": {
   "codemirror_mode": {
    "name": "ipython",
    "version": 3
   },
   "file_extension": ".py",
   "mimetype": "text/x-python",
   "name": "python",
   "nbconvert_exporter": "python",
   "pygments_lexer": "ipython3",
   "version": "3.12.9"
  }
 },
 "nbformat": 4,
 "nbformat_minor": 5
}
